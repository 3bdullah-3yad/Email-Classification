{
 "cells": [
  {
   "cell_type": "markdown",
   "id": "4ba647ea",
   "metadata": {},
   "source": [
    "\n",
    "# <span style=\"color:red\">@@@@@@@@@@@@@Ayad@@@@@@@@@@@@@</span>"
   ]
  },
  {
   "cell_type": "markdown",
   "id": "7235fed5",
   "metadata": {},
   "source": [
    "# <span style=\"color:blue\">1.3 Take a look at data and prepare it</span>"
   ]
  },
  {
   "cell_type": "code",
   "execution_count": 1,
   "id": "ce9dff59",
   "metadata": {},
   "outputs": [
    {
     "data": {
      "text/plain": [
       "(5572, 2)"
      ]
     },
     "execution_count": 1,
     "metadata": {},
     "output_type": "execute_result"
    }
   ],
   "source": [
    "import pandas as pd\n",
    "\n",
    "\n",
    "SMSs = pd.read_table( r'D:\\Projects\\NLP\\SMS classification\\SMSs.tsv',\n",
    "                        names=['label', 'message']\n",
    "                        )\n",
    "\n",
    "\n",
    "SMSs.shape"
   ]
  },
  {
   "cell_type": "code",
   "execution_count": 2,
   "id": "a2e7fbb2",
   "metadata": {},
   "outputs": [
    {
     "data": {
      "text/html": [
       "<div>\n",
       "<style scoped>\n",
       "    .dataframe tbody tr th:only-of-type {\n",
       "        vertical-align: middle;\n",
       "    }\n",
       "\n",
       "    .dataframe tbody tr th {\n",
       "        vertical-align: top;\n",
       "    }\n",
       "\n",
       "    .dataframe thead th {\n",
       "        text-align: right;\n",
       "    }\n",
       "</style>\n",
       "<table border=\"1\" class=\"dataframe\">\n",
       "  <thead>\n",
       "    <tr style=\"text-align: right;\">\n",
       "      <th></th>\n",
       "      <th>label</th>\n",
       "      <th>message</th>\n",
       "    </tr>\n",
       "  </thead>\n",
       "  <tbody>\n",
       "    <tr>\n",
       "      <th>0</th>\n",
       "      <td>ham</td>\n",
       "      <td>Go until jurong point, crazy.. Available only ...</td>\n",
       "    </tr>\n",
       "    <tr>\n",
       "      <th>1</th>\n",
       "      <td>ham</td>\n",
       "      <td>Ok lar... Joking wif u oni...</td>\n",
       "    </tr>\n",
       "    <tr>\n",
       "      <th>2</th>\n",
       "      <td>spam</td>\n",
       "      <td>Free entry in 2 a wkly comp to win FA Cup fina...</td>\n",
       "    </tr>\n",
       "    <tr>\n",
       "      <th>3</th>\n",
       "      <td>ham</td>\n",
       "      <td>U dun say so early hor... U c already then say...</td>\n",
       "    </tr>\n",
       "    <tr>\n",
       "      <th>4</th>\n",
       "      <td>ham</td>\n",
       "      <td>Nah I don't think he goes to usf, he lives aro...</td>\n",
       "    </tr>\n",
       "    <tr>\n",
       "      <th>5</th>\n",
       "      <td>spam</td>\n",
       "      <td>FreeMsg Hey there darling it's been 3 week's n...</td>\n",
       "    </tr>\n",
       "    <tr>\n",
       "      <th>6</th>\n",
       "      <td>ham</td>\n",
       "      <td>Even my brother is not like to speak with me. ...</td>\n",
       "    </tr>\n",
       "    <tr>\n",
       "      <th>7</th>\n",
       "      <td>ham</td>\n",
       "      <td>As per your request 'Melle Melle (Oru Minnamin...</td>\n",
       "    </tr>\n",
       "    <tr>\n",
       "      <th>8</th>\n",
       "      <td>spam</td>\n",
       "      <td>WINNER!! As a valued network customer you have...</td>\n",
       "    </tr>\n",
       "    <tr>\n",
       "      <th>9</th>\n",
       "      <td>spam</td>\n",
       "      <td>Had your mobile 11 months or more? U R entitle...</td>\n",
       "    </tr>\n",
       "  </tbody>\n",
       "</table>\n",
       "</div>"
      ],
      "text/plain": [
       "  label                                            message\n",
       "0   ham  Go until jurong point, crazy.. Available only ...\n",
       "1   ham                      Ok lar... Joking wif u oni...\n",
       "2  spam  Free entry in 2 a wkly comp to win FA Cup fina...\n",
       "3   ham  U dun say so early hor... U c already then say...\n",
       "4   ham  Nah I don't think he goes to usf, he lives aro...\n",
       "5  spam  FreeMsg Hey there darling it's been 3 week's n...\n",
       "6   ham  Even my brother is not like to speak with me. ...\n",
       "7   ham  As per your request 'Melle Melle (Oru Minnamin...\n",
       "8  spam  WINNER!! As a valued network customer you have...\n",
       "9  spam  Had your mobile 11 months or more? U R entitle..."
      ]
     },
     "execution_count": 2,
     "metadata": {},
     "output_type": "execute_result"
    }
   ],
   "source": [
    "SMSs.head(10)"
   ]
  },
  {
   "cell_type": "code",
   "execution_count": 3,
   "id": "3469ef20",
   "metadata": {},
   "outputs": [
    {
     "data": {
      "text/plain": [
       "ham     4825\n",
       "spam     747\n",
       "Name: label, dtype: int64"
      ]
     },
     "execution_count": 3,
     "metadata": {},
     "output_type": "execute_result"
    }
   ],
   "source": [
    "SMSs.label.value_counts()"
   ]
  },
  {
   "cell_type": "code",
   "execution_count": 4,
   "id": "4f60d7f4",
   "metadata": {},
   "outputs": [
    {
     "data": {
      "text/html": [
       "<div>\n",
       "<style scoped>\n",
       "    .dataframe tbody tr th:only-of-type {\n",
       "        vertical-align: middle;\n",
       "    }\n",
       "\n",
       "    .dataframe tbody tr th {\n",
       "        vertical-align: top;\n",
       "    }\n",
       "\n",
       "    .dataframe thead th {\n",
       "        text-align: right;\n",
       "    }\n",
       "</style>\n",
       "<table border=\"1\" class=\"dataframe\">\n",
       "  <thead>\n",
       "    <tr style=\"text-align: right;\">\n",
       "      <th></th>\n",
       "      <th>label</th>\n",
       "      <th>message</th>\n",
       "      <th>label_num</th>\n",
       "    </tr>\n",
       "  </thead>\n",
       "  <tbody>\n",
       "    <tr>\n",
       "      <th>0</th>\n",
       "      <td>ham</td>\n",
       "      <td>Go until jurong point, crazy.. Available only ...</td>\n",
       "      <td>0</td>\n",
       "    </tr>\n",
       "    <tr>\n",
       "      <th>1</th>\n",
       "      <td>ham</td>\n",
       "      <td>Ok lar... Joking wif u oni...</td>\n",
       "      <td>0</td>\n",
       "    </tr>\n",
       "    <tr>\n",
       "      <th>2</th>\n",
       "      <td>spam</td>\n",
       "      <td>Free entry in 2 a wkly comp to win FA Cup fina...</td>\n",
       "      <td>1</td>\n",
       "    </tr>\n",
       "    <tr>\n",
       "      <th>3</th>\n",
       "      <td>ham</td>\n",
       "      <td>U dun say so early hor... U c already then say...</td>\n",
       "      <td>0</td>\n",
       "    </tr>\n",
       "    <tr>\n",
       "      <th>4</th>\n",
       "      <td>ham</td>\n",
       "      <td>Nah I don't think he goes to usf, he lives aro...</td>\n",
       "      <td>0</td>\n",
       "    </tr>\n",
       "    <tr>\n",
       "      <th>5</th>\n",
       "      <td>spam</td>\n",
       "      <td>FreeMsg Hey there darling it's been 3 week's n...</td>\n",
       "      <td>1</td>\n",
       "    </tr>\n",
       "    <tr>\n",
       "      <th>6</th>\n",
       "      <td>ham</td>\n",
       "      <td>Even my brother is not like to speak with me. ...</td>\n",
       "      <td>0</td>\n",
       "    </tr>\n",
       "    <tr>\n",
       "      <th>7</th>\n",
       "      <td>ham</td>\n",
       "      <td>As per your request 'Melle Melle (Oru Minnamin...</td>\n",
       "      <td>0</td>\n",
       "    </tr>\n",
       "    <tr>\n",
       "      <th>8</th>\n",
       "      <td>spam</td>\n",
       "      <td>WINNER!! As a valued network customer you have...</td>\n",
       "      <td>1</td>\n",
       "    </tr>\n",
       "    <tr>\n",
       "      <th>9</th>\n",
       "      <td>spam</td>\n",
       "      <td>Had your mobile 11 months or more? U R entitle...</td>\n",
       "      <td>1</td>\n",
       "    </tr>\n",
       "  </tbody>\n",
       "</table>\n",
       "</div>"
      ],
      "text/plain": [
       "  label                                            message  label_num\n",
       "0   ham  Go until jurong point, crazy.. Available only ...          0\n",
       "1   ham                      Ok lar... Joking wif u oni...          0\n",
       "2  spam  Free entry in 2 a wkly comp to win FA Cup fina...          1\n",
       "3   ham  U dun say so early hor... U c already then say...          0\n",
       "4   ham  Nah I don't think he goes to usf, he lives aro...          0\n",
       "5  spam  FreeMsg Hey there darling it's been 3 week's n...          1\n",
       "6   ham  Even my brother is not like to speak with me. ...          0\n",
       "7   ham  As per your request 'Melle Melle (Oru Minnamin...          0\n",
       "8  spam  WINNER!! As a valued network customer you have...          1\n",
       "9  spam  Had your mobile 11 months or more? U R entitle...          1"
      ]
     },
     "execution_count": 4,
     "metadata": {},
     "output_type": "execute_result"
    }
   ],
   "source": [
    "# convert the label to a numerical variable\n",
    "SMSs['label_num'] = SMSs.label.map({'ham':0, 'spam':1})\n",
    "\n",
    "# check that the conversion worked\n",
    "SMSs.head(10)"
   ]
  },
  {
   "cell_type": "code",
   "execution_count": 5,
   "id": "05b6c17b",
   "metadata": {},
   "outputs": [
    {
     "name": "stdout",
     "output_type": "stream",
     "text": [
      "(5572,)\n",
      "(5572,)\n"
     ]
    }
   ],
   "source": [
    "X = SMSs.message\n",
    "y = SMSs.label_num\n",
    "print(X.shape)\n",
    "print(y.shape)"
   ]
  },
  {
   "cell_type": "code",
   "execution_count": 6,
   "id": "fe0a9f81",
   "metadata": {},
   "outputs": [
    {
     "name": "stderr",
     "output_type": "stream",
     "text": [
      "C:\\Users\\__Ayad__\\anaconda3\\lib\\site-packages\\seaborn\\_decorators.py:36: FutureWarning: Pass the following variable as a keyword arg: x. From version 0.12, the only valid positional argument will be `data`, and passing other arguments without an explicit keyword will result in an error or misinterpretation.\n",
      "  warnings.warn(\n"
     ]
    },
    {
     "data": {
      "text/plain": [
       "<AxesSubplot:xlabel='label_num', ylabel='count'>"
      ]
     },
     "execution_count": 6,
     "metadata": {},
     "output_type": "execute_result"
    },
    {
     "data": {
      "image/png": "[encoded data removed]",
      "text/plain": [
       "<Figure size 432x288 with 1 Axes>"
      ]
     },
     "metadata": {
      "needs_background": "light"
     },
     "output_type": "display_data"
    }
   ],
   "source": [
    "import seaborn as sns\n",
    "\n",
    "sns.countplot(y)\n"
   ]
  },
  {
   "cell_type": "markdown",
   "id": "9e7c7bc1",
   "metadata": {},
   "source": [
    "### <span style=\"color:red\">we infered that there is imbalance in Dataset</span>"
   ]
  },
  {
   "cell_type": "code",
   "execution_count": 7,
   "id": "25d933c9",
   "metadata": {},
   "outputs": [
    {
     "name": "stdout",
     "output_type": "stream",
     "text": [
      "(4179,)\n",
      "(4179,)\n",
      "(1393,)\n",
      "(1393,)\n"
     ]
    }
   ],
   "source": [
    "# split X and y into training and testing sets\n",
    "from sklearn.model_selection import train_test_split\n",
    "\n",
    "X_train, X_test, y_train, y_test = train_test_split(X, y, random_state=1)\n",
    "\n",
    "print(X_train.shape)\n",
    "print(y_train.shape)\n",
    "\n",
    "print(X_test.shape)\n",
    "print(y_test.shape)"
   ]
  },
  {
   "cell_type": "markdown",
   "id": "94030edb",
   "metadata": {},
   "source": [
    "# <span style=\"color:blue\">2.3 Sparse Matrix (document-term matrix)</span>"
   ]
  },
  {
   "cell_type": "code",
   "execution_count": 8,
   "id": "364340d5",
   "metadata": {},
   "outputs": [],
   "source": [
    "from nltk.corpus import stopwords\n",
    "from sklearn.feature_extraction.text import CountVectorizer\n",
    "\n",
    "vectorizer = CountVectorizer(stop_words = stopwords.words('english'))"
   ]
  },
  {
   "cell_type": "code",
   "execution_count": 9,
   "id": "aa798b05",
   "metadata": {},
   "outputs": [],
   "source": [
    "sparse_matrix = vectorizer.fit_transform(X_train)"
   ]
  },
  {
   "cell_type": "code",
   "execution_count": 10,
   "id": "79285454",
   "metadata": {},
   "outputs": [
    {
     "data": {
      "text/plain": [
       "(4179, 7325)"
      ]
     },
     "execution_count": 10,
     "metadata": {},
     "output_type": "execute_result"
    }
   ],
   "source": [
    "sparse_matrix = pd.DataFrame(sparse_matrix.toarray(), columns=vectorizer.get_feature_names())\n",
    "\n",
    "sparse_matrix.shape"
   ]
  },
  {
   "cell_type": "markdown",
   "id": "e97229b2",
   "metadata": {},
   "source": [
    "# <span style=\"color:blue\">3.3 Traning and Evaluation</span>"
   ]
  },
  {
   "cell_type": "markdown",
   "id": "1b3e49fc",
   "metadata": {},
   "source": [
    "## Evaluation on training data"
   ]
  },
  {
   "cell_type": "code",
   "execution_count": 11,
   "id": "7ae14ec4",
   "metadata": {},
   "outputs": [],
   "source": [
    "from sklearn.naive_bayes import MultinomialNB\n",
    "nb = MultinomialNB()"
   ]
  },
  {
   "cell_type": "code",
   "execution_count": 12,
   "id": "0c951b37",
   "metadata": {},
   "outputs": [
    {
     "name": "stderr",
     "output_type": "stream",
     "text": [
      "[Parallel(n_jobs=1)]: Using backend SequentialBackend with 1 concurrent workers.\n",
      "[Parallel(n_jobs=1)]: Done   7 out of   7 | elapsed:    5.1s finished\n"
     ]
    },
    {
     "data": {
      "text/plain": [
       "0.9767887054319215"
      ]
     },
     "execution_count": 12,
     "metadata": {},
     "output_type": "execute_result"
    }
   ],
   "source": [
    "from sklearn.model_selection import cross_val_score\n",
    "\n",
    "scores = cross_val_score(nb, sparse_matrix, y_train, cv=7, verbose=1)\n",
    "scores.mean()"
   ]
  },
  {
   "cell_type": "code",
   "execution_count": 13,
   "id": "fef1a536",
   "metadata": {},
   "outputs": [],
   "source": [
    "# train the model using X_train\n",
    "nb.fit(sparse_matrix, y_train)\n",
    "\n",
    "y_pred = nb.predict(sparse_matrix)"
   ]
  },
  {
   "cell_type": "code",
   "execution_count": 14,
   "id": "690a4355",
   "metadata": {},
   "outputs": [],
   "source": [
    "from sklearn.metrics import accuracy_score, confusion_matrix, classification_report, roc_auc_score\n",
    "\n",
    "\n",
    "def evaluate(y_train, y_pred):\n",
    "    print( 'Accuracy: ', accuracy_score(y_train, y_pred), '\\n'*2+'='*60)\n",
    "    print( 'Confusion Matrix:\\n', confusion_matrix(y_train, y_pred), '\\n'*2+'='*60)\n",
    "    print( classification_report(y_train, y_pred))"
   ]
  },
  {
   "cell_type": "code",
   "execution_count": 15,
   "id": "c55a5f89",
   "metadata": {},
   "outputs": [
    {
     "name": "stdout",
     "output_type": "stream",
     "text": [
      "Accuracy:  0.9930605407992342 \n",
      "\n",
      "============================================================\n",
      "Confusion Matrix:\n",
      " [[3600   17]\n",
      " [  12  550]] \n",
      "\n",
      "============================================================\n",
      "              precision    recall  f1-score   support\n",
      "\n",
      "           0       1.00      1.00      1.00      3617\n",
      "           1       0.97      0.98      0.97       562\n",
      "\n",
      "    accuracy                           0.99      4179\n",
      "   macro avg       0.98      0.99      0.99      4179\n",
      "weighted avg       0.99      0.99      0.99      4179\n",
      "\n"
     ]
    }
   ],
   "source": [
    "evaluate(y_train, y_pred)"
   ]
  },
  {
   "cell_type": "code",
   "execution_count": 16,
   "id": "2937302a",
   "metadata": {},
   "outputs": [
    {
     "data": {
      "text/plain": [
       "(4179, 2)"
      ]
     },
     "execution_count": 16,
     "metadata": {},
     "output_type": "execute_result"
    }
   ],
   "source": [
    "y_pred_prob = nb.predict_proba(sparse_matrix)\n",
    "y_pred_prob.shape"
   ]
  },
  {
   "cell_type": "code",
   "execution_count": 17,
   "id": "1330814b",
   "metadata": {},
   "outputs": [
    {
     "data": {
      "text/plain": [
       "0.9955075724854066"
      ]
     },
     "execution_count": 17,
     "metadata": {},
     "output_type": "execute_result"
    }
   ],
   "source": [
    "roc_auc_score(y_train, y_pred_prob[:,1])"
   ]
  },
  {
   "cell_type": "code",
   "execution_count": 18,
   "id": "c781c3fb",
   "metadata": {},
   "outputs": [],
   "source": [
    "from sklearn.metrics import precision_recall_curve\n",
    "\n",
    "precisions, recalls, thresholds = precision_recall_curve(y_train, y_pred_prob[:,1])"
   ]
  },
  {
   "cell_type": "code",
   "execution_count": 19,
   "id": "d36b0902",
   "metadata": {},
   "outputs": [
    {
     "data": {
      "image/png": "[encoded data removed]",
      "text/plain": [
       "<Figure size 648x432 with 1 Axes>"
      ]
     },
     "metadata": {
      "needs_background": "light"
     },
     "output_type": "display_data"
    }
   ],
   "source": [
    "import matplotlib.pyplot as plt\n",
    "\n",
    "\n",
    "plt.subplots(figsize=(9,6))\n",
    "\n",
    "\n",
    "plt.plot(recalls[:-1], thresholds, \"g-\", label=\"Recall\")\n",
    "plt.plot(precisions[:-1], thresholds, \"b--\", label=\"Precision\")\n",
    "\n",
    "\n",
    "plt.grid()\n",
    "plt.legend(prop={'size':12})\n",
    "plt.show()"
   ]
  },
  {
   "cell_type": "code",
   "execution_count": 20,
   "id": "d799163a",
   "metadata": {},
   "outputs": [],
   "source": [
    "from sklearn.metrics import roc_curve\n",
    "\n",
    "fpr, tpr, thresholds = roc_curve(y_train, y_pred_prob[:,1])"
   ]
  },
  {
   "cell_type": "code",
   "execution_count": 21,
   "id": "d8af53de",
   "metadata": {},
   "outputs": [
    {
     "data": {
      "image/png": "[encoded data removed]",
      "text/plain": [
       "<Figure size 648x432 with 1 Axes>"
      ]
     },
     "metadata": {
      "needs_background": "light"
     },
     "output_type": "display_data"
    }
   ],
   "source": [
    "plt.subplots(figsize=(9,6))\n",
    "\n",
    "plt.plot(fpr, tpr, linewidth=2)\n",
    "plt.plot([0, 1], [0, 1], 'k--') # dashed diagonal\n",
    "\n",
    "plt.title('receiver operating characteristic', size=14)\n",
    "plt.xlabel('False Positive Rate', size=14)\n",
    "plt.ylabel('True Positive Rate (Recall)', size=14)\n",
    "\n",
    "plt.grid()\n",
    "plt.show()"
   ]
  },
  {
   "cell_type": "markdown",
   "id": "3ef50dfa",
   "metadata": {},
   "source": [
    "## pipeline building and evaluation on testing data"
   ]
  },
  {
   "cell_type": "code",
   "execution_count": 22,
   "id": "bda93943",
   "metadata": {},
   "outputs": [],
   "source": [
    "from sklearn.pipeline import Pipeline\n",
    "\n",
    "process_and_predict = Pipeline([\n",
    "                                ('vectorizer', vectorizer),\n",
    "                                ('clf', nb)\n",
    "                                 ])"
   ]
  },
  {
   "cell_type": "code",
   "execution_count": 23,
   "id": "748786a3",
   "metadata": {},
   "outputs": [],
   "source": [
    "y_pred_ = process_and_predict.predict(X_test)"
   ]
  },
  {
   "cell_type": "code",
   "execution_count": 24,
   "id": "571b9f23",
   "metadata": {},
   "outputs": [
    {
     "name": "stdout",
     "output_type": "stream",
     "text": [
      "Accuracy:  0.9899497487437185 \n",
      "\n",
      "============================================================\n",
      "Confusion Matrix:\n",
      " [[1201    7]\n",
      " [   7  178]] \n",
      "\n",
      "============================================================\n",
      "              precision    recall  f1-score   support\n",
      "\n",
      "           0       0.99      0.99      0.99      1208\n",
      "           1       0.96      0.96      0.96       185\n",
      "\n",
      "    accuracy                           0.99      1393\n",
      "   macro avg       0.98      0.98      0.98      1393\n",
      "weighted avg       0.99      0.99      0.99      1393\n",
      "\n"
     ]
    }
   ],
   "source": [
    "evaluate(y_test, y_pred_)"
   ]
  },
  {
   "cell_type": "code",
   "execution_count": 25,
   "id": "6a7c4a6c",
   "metadata": {},
   "outputs": [
    {
     "data": {
      "text/plain": [
       "(1393, 2)"
      ]
     },
     "execution_count": 25,
     "metadata": {},
     "output_type": "execute_result"
    }
   ],
   "source": [
    "y_pred_prob_ = process_and_predict.predict_proba(X_test)\n",
    "y_pred_prob_.shape"
   ]
  },
  {
   "cell_type": "code",
   "execution_count": 26,
   "id": "355c9858",
   "metadata": {},
   "outputs": [
    {
     "data": {
      "text/plain": [
       "0.9904510470735637"
      ]
     },
     "execution_count": 26,
     "metadata": {},
     "output_type": "execute_result"
    }
   ],
   "source": [
    "roc_auc_score(y_test, y_pred_prob_[:,1])"
   ]
  },
  {
   "cell_type": "code",
   "execution_count": 27,
   "id": "926478b4",
   "metadata": {},
   "outputs": [],
   "source": [
    "def HamOrSpam(message):\n",
    "    pred = process_and_predict.predict([message])[0]\n",
    "    if pred==0:\n",
    "        print('This SMS is Spam')\n",
    "    else:\n",
    "        print('This SMS is Ham')\n",
    "    "
   ]
  },
  {
   "cell_type": "code",
   "execution_count": 28,
   "id": "78048902",
   "metadata": {},
   "outputs": [
    {
     "name": "stdout",
     "output_type": "stream",
     "text": [
      "This SMS is Spam\n",
      "This SMS is Ham\n"
     ]
    }
   ],
   "source": [
    "HamOrSpam(\"Hope you enjoyed your new content.\")\n",
    "HamOrSpam(\"K k:) sms chat with me\")"
   ]
  },
  {
   "cell_type": "markdown",
   "id": "0ec68667",
   "metadata": {},
   "source": [
    "### <span style=\"color:blue\">Thank you, Guy ^_^</span>"
   ]
  },
  {
   "cell_type": "markdown",
   "id": "d2c597a8",
   "metadata": {},
   "source": [
    "# <span style=\"color:red\">@@@@@@@@@@@@@Ayad@@@@@@@@@@@@@</span>"
   ]
  }
 ],
 "metadata": {
  "kernelspec": {
   "display_name": "Python 3 (ipykernel)",
   "language": "python",
   "name": "python3"
  },
  "language_info": {
   "codemirror_mode": {
    "name": "ipython",
    "version": 3
   },
   "file_extension": ".py",
   "mimetype": "text/x-python",
   "name": "python",
   "nbconvert_exporter": "python",
   "pygments_lexer": "ipython3",
   "version": "3.9.7"
  }
 },
 "nbformat": 4,
 "nbformat_minor": 5
}
